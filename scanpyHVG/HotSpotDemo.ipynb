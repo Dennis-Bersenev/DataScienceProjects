{
 "cells": [
  {
   "cell_type": "code",
   "execution_count": 1,
   "metadata": {},
   "outputs": [
    {
     "name": "stdout",
     "output_type": "stream",
     "text": [
      "scanpy==1.9.1 anndata==0.8.0 umap==0.5.3 numpy==1.23.5 scipy==1.10.0 pandas==1.5.3 scikit-learn==1.2.1 statsmodels==0.13.5 python-igraph==0.10.4 pynndescent==0.5.8\n",
      "... reading from cache file cache\\data-filtered_gene_bc_matrices-hg19-matrix.h5ad\n"
     ]
    },
    {
     "data": {
      "text/plain": [
       "AnnData object with n_obs × n_vars = 2700 × 32738\n",
       "    var: 'gene_ids'"
      ]
     },
     "execution_count": 1,
     "metadata": {},
     "output_type": "execute_result"
    }
   ],
   "source": [
    "import numpy as np\n",
    "import pandas as pd\n",
    "import scanpy as sc\n",
    "import hotspot\n",
    "\n",
    "\n",
    "sc.settings.verbosity = 3             # verbosity: errors (0), warnings (1), info (2), hints (3)\n",
    "sc.logging.print_header()\n",
    "sc.settings.set_figure_params(dpi=80, facecolor='white')\n",
    "\n",
    "adata = sc.read_10x_mtx(\n",
    "    'data/filtered_gene_bc_matrices/hg19/',  # the directory with the `.mtx` file\n",
    "    var_names='gene_symbols',                # use gene symbols for the variable names (variables-axis index)\n",
    "    cache=True)                              # write a cache file for faster subsequent reading\n",
    "\n",
    "adata.var_names_make_unique()\n",
    "adata"
   ]
  },
  {
   "cell_type": "code",
   "execution_count": 2,
   "metadata": {
    "tags": []
   },
   "outputs": [
    {
     "name": "stdout",
     "output_type": "stream",
     "text": [
      "filtered out 19024 genes that are detected in less than 3 cells\n"
     ]
    }
   ],
   "source": [
    "adata.layers[\"counts\"] = adata.X.copy()\n",
    "sc.pp.filter_genes(adata, min_cells=3)"
   ]
  },
  {
   "cell_type": "code",
   "execution_count": 3,
   "metadata": {},
   "outputs": [],
   "source": [
    "adata.var['mt'] = adata.var_names.str.startswith('MT-')  # annotate the group of mitochondrial genes as 'mt'\n",
    "sc.pp.calculate_qc_metrics(adata, qc_vars=['mt'], percent_top=None, log1p=False, inplace=True)"
   ]
  },
  {
   "cell_type": "code",
   "execution_count": 4,
   "metadata": {},
   "outputs": [],
   "source": [
    "adata = adata[adata.obs.n_genes_by_counts > 200, :]\n",
    "adata = adata[adata.obs.n_genes_by_counts < 2500, :]\n",
    "adata = adata[adata.obs.pct_counts_mt < 5, :]"
   ]
  },
  {
   "cell_type": "code",
   "execution_count": 5,
   "metadata": {},
   "outputs": [
    {
     "name": "stdout",
     "output_type": "stream",
     "text": [
      "filtered out 58 genes that are detected in less than 3 cells\n",
      "normalizing counts per cell\n",
      "    finished (0:00:00)\n",
      "regressing out ['total_counts', 'pct_counts_mt']\n",
      "    sparse input is densified and may lead to high memory use\n"
     ]
    },
    {
     "name": "stderr",
     "output_type": "stream",
     "text": [
      "C:\\Users\\denni\\anaconda3\\envs\\bioinformatics\\lib\\site-packages\\scanpy\\preprocessing\\_simple.py:251: ImplicitModificationWarning: Trying to modify attribute `.var` of view, initializing view as actual.\n",
      "  adata.var['n_cells'] = number\n"
     ]
    },
    {
     "name": "stdout",
     "output_type": "stream",
     "text": [
      "    finished (0:00:39)\n",
      "computing PCA\n",
      "    with n_comps=50\n",
      "    finished (0:00:03)\n"
     ]
    }
   ],
   "source": [
    "# Pre-processing\n",
    "sc.pp.filter_genes(adata, min_cells=3)\n",
    "sc.pp.normalize_total(adata, target_sum=1e4)\n",
    "sc.pp.log1p(adata)\n",
    "\n",
    "# sc.pp.highly_variable_genes(adata, min_mean=0.1, max_mean=10, min_disp=0.1) \n",
    "adata.raw = adata\n",
    "\n",
    "# adata = adata[:, adata.var.highly_variable]\n",
    "\n",
    "sc.pp.regress_out(adata, ['total_counts', 'pct_counts_mt'])\n",
    "sc.pp.scale(adata, max_value=10)\n",
    "\n",
    "#PCA \n",
    "sc.tl.pca(adata, svd_solver='arpack')"
   ]
  },
  {
   "cell_type": "code",
   "execution_count": 6,
   "metadata": {},
   "outputs": [
    {
     "name": "stderr",
     "output_type": "stream",
     "text": [
      "C:\\Users\\denni\\anaconda3\\envs\\bioinformatics\\lib\\site-packages\\hotspot\\hotspot.py:98: UserWarning: Hotspot will work faster when counts are a csc sparse matrix.\n",
      "  warnings.warn(\n"
     ]
    }
   ],
   "source": [
    "hs = hotspot.Hotspot(\n",
    "    adata,\n",
    "    layer_key=\"counts\",\n",
    "    model='danb',\n",
    "    latent_obsm_key=\"X_pca\",\n",
    "    umi_counts_obs_key=\"total_counts\"\n",
    ")"
   ]
  },
  {
   "cell_type": "code",
   "execution_count": 7,
   "metadata": {},
   "outputs": [],
   "source": [
    "hs.create_knn_graph(weighted_graph=False, n_neighbors=30)"
   ]
  },
  {
   "cell_type": "code",
   "execution_count": 8,
   "metadata": {},
   "outputs": [
    {
     "name": "stderr",
     "output_type": "stream",
     "text": [
      "100%|███████████████████████████████████████████████████████████████████████████| 13656/13656 [00:36<00:00, 370.20it/s]\n"
     ]
    }
   ],
   "source": [
    "hs_results = hs.compute_autocorrelations() "
   ]
  },
  {
   "cell_type": "code",
   "execution_count": 9,
   "metadata": {},
   "outputs": [
    {
     "data": {
      "text/plain": [
       "Gene\n",
       "PPBP       0.436694\n",
       "CLU        0.346361\n",
       "GNG11      0.427145\n",
       "S100A8     0.633780\n",
       "CD9        0.214529\n",
       "             ...   \n",
       "ARL2      -0.001874\n",
       "ILF3      -0.002154\n",
       "ANAPC13   -0.001664\n",
       "MTIF3     -0.003475\n",
       "TTC1      -0.001589\n",
       "Name: C, Length: 13656, dtype: float64"
      ]
     },
     "execution_count": 9,
     "metadata": {},
     "output_type": "execute_result"
    }
   ],
   "source": [
    "hs_results.C"
   ]
  },
  {
   "cell_type": "code",
   "execution_count": 10,
   "metadata": {},
   "outputs": [
    {
     "name": "stdout",
     "output_type": "stream",
     "text": [
      "Computing pair-wise local correlation on 4747 features...\n"
     ]
    },
    {
     "name": "stderr",
     "output_type": "stream",
     "text": [
      "100%|████████████████████████████████████████████████████████████████████████████| 4747/4747 [00:00<00:00, 8674.88it/s]\n",
      "100%|██████████████████████████████████████████████████████████████████| 11264631/11264631 [1:32:24<00:00, 2031.82it/s]\n"
     ]
    }
   ],
   "source": [
    "hs_genes = hs_results.loc[hs_results.FDR < 0.05].index # Select genes\n",
    "\n",
    "local_correlations = hs.compute_local_correlations(hs_genes) # jobs for parallelization"
   ]
  },
  {
   "cell_type": "code",
   "execution_count": 11,
   "metadata": {},
   "outputs": [],
   "source": [
    "modules = hs.create_modules(\n",
    "    min_gene_threshold=30, core_only=True, fdr_threshold=0.05\n",
    ")"
   ]
  },
  {
   "cell_type": "code",
   "execution_count": 12,
   "metadata": {},
   "outputs": [
    {
     "name": "stdout",
     "output_type": "stream",
     "text": [
      "Computing scores for 19 modules...\n"
     ]
    },
    {
     "name": "stderr",
     "output_type": "stream",
     "text": [
      "100%|██████████████████████████████████████████████████████████████████████████████████| 19/19 [00:01<00:00, 13.75it/s]\n"
     ]
    }
   ],
   "source": [
    "module_scores = hs.calculate_module_scores()"
   ]
  },
  {
   "cell_type": "code",
   "execution_count": 13,
   "metadata": {},
   "outputs": [
    {
     "data": {
      "text/html": [
       "<div>\n",
       "<style scoped>\n",
       "    .dataframe tbody tr th:only-of-type {\n",
       "        vertical-align: middle;\n",
       "    }\n",
       "\n",
       "    .dataframe tbody tr th {\n",
       "        vertical-align: top;\n",
       "    }\n",
       "\n",
       "    .dataframe thead th {\n",
       "        text-align: right;\n",
       "    }\n",
       "</style>\n",
       "<table border=\"1\" class=\"dataframe\">\n",
       "  <thead>\n",
       "    <tr style=\"text-align: right;\">\n",
       "      <th></th>\n",
       "      <th>1</th>\n",
       "      <th>2</th>\n",
       "      <th>3</th>\n",
       "      <th>4</th>\n",
       "      <th>5</th>\n",
       "      <th>6</th>\n",
       "      <th>7</th>\n",
       "      <th>8</th>\n",
       "      <th>9</th>\n",
       "      <th>10</th>\n",
       "      <th>11</th>\n",
       "      <th>12</th>\n",
       "      <th>13</th>\n",
       "      <th>14</th>\n",
       "      <th>15</th>\n",
       "      <th>16</th>\n",
       "      <th>17</th>\n",
       "      <th>18</th>\n",
       "      <th>19</th>\n",
       "    </tr>\n",
       "  </thead>\n",
       "  <tbody>\n",
       "    <tr>\n",
       "      <th>AAACATACAACCAC-1</th>\n",
       "      <td>-0.727609</td>\n",
       "      <td>2.624979</td>\n",
       "      <td>-3.311350</td>\n",
       "      <td>0.805688</td>\n",
       "      <td>-2.160814</td>\n",
       "      <td>-1.756093</td>\n",
       "      <td>1.608772</td>\n",
       "      <td>-1.186783</td>\n",
       "      <td>-0.802973</td>\n",
       "      <td>-0.644605</td>\n",
       "      <td>0.947214</td>\n",
       "      <td>-0.284562</td>\n",
       "      <td>-0.420781</td>\n",
       "      <td>0.634126</td>\n",
       "      <td>-0.317481</td>\n",
       "      <td>-0.468689</td>\n",
       "      <td>1.477604</td>\n",
       "      <td>0.194645</td>\n",
       "      <td>0.101362</td>\n",
       "    </tr>\n",
       "    <tr>\n",
       "      <th>AAACATTGAGCTAC-1</th>\n",
       "      <td>-0.547002</td>\n",
       "      <td>2.090939</td>\n",
       "      <td>-3.155074</td>\n",
       "      <td>-2.245882</td>\n",
       "      <td>9.666570</td>\n",
       "      <td>-1.402685</td>\n",
       "      <td>-2.015072</td>\n",
       "      <td>-1.462063</td>\n",
       "      <td>-0.869494</td>\n",
       "      <td>-0.351993</td>\n",
       "      <td>-1.189009</td>\n",
       "      <td>3.222033</td>\n",
       "      <td>-0.508973</td>\n",
       "      <td>0.394285</td>\n",
       "      <td>0.417333</td>\n",
       "      <td>-0.521530</td>\n",
       "      <td>-0.729691</td>\n",
       "      <td>-0.202885</td>\n",
       "      <td>0.054668</td>\n",
       "    </tr>\n",
       "    <tr>\n",
       "      <th>AAACATTGATCAGC-1</th>\n",
       "      <td>-0.514758</td>\n",
       "      <td>0.248048</td>\n",
       "      <td>-3.028685</td>\n",
       "      <td>-0.077924</td>\n",
       "      <td>-1.931712</td>\n",
       "      <td>-1.580731</td>\n",
       "      <td>2.450792</td>\n",
       "      <td>0.100175</td>\n",
       "      <td>-0.419503</td>\n",
       "      <td>-0.633773</td>\n",
       "      <td>1.959789</td>\n",
       "      <td>-0.297110</td>\n",
       "      <td>-0.173899</td>\n",
       "      <td>0.940622</td>\n",
       "      <td>-0.349555</td>\n",
       "      <td>0.091186</td>\n",
       "      <td>0.296206</td>\n",
       "      <td>0.647022</td>\n",
       "      <td>2.308476</td>\n",
       "    </tr>\n",
       "    <tr>\n",
       "      <th>AAACCGTGCTTCCG-1</th>\n",
       "      <td>-0.203761</td>\n",
       "      <td>-5.861107</td>\n",
       "      <td>9.287175</td>\n",
       "      <td>-2.624157</td>\n",
       "      <td>-1.257042</td>\n",
       "      <td>4.710341</td>\n",
       "      <td>-2.124619</td>\n",
       "      <td>2.417568</td>\n",
       "      <td>1.330783</td>\n",
       "      <td>1.287826</td>\n",
       "      <td>-1.376093</td>\n",
       "      <td>-0.586650</td>\n",
       "      <td>0.730636</td>\n",
       "      <td>-2.414737</td>\n",
       "      <td>0.251063</td>\n",
       "      <td>0.029899</td>\n",
       "      <td>-0.814138</td>\n",
       "      <td>-1.026194</td>\n",
       "      <td>-0.827805</td>\n",
       "    </tr>\n",
       "    <tr>\n",
       "      <th>AAACCGTGTATGCG-1</th>\n",
       "      <td>-0.451362</td>\n",
       "      <td>-6.649067</td>\n",
       "      <td>-0.330066</td>\n",
       "      <td>13.408894</td>\n",
       "      <td>-1.477985</td>\n",
       "      <td>0.463921</td>\n",
       "      <td>-0.655916</td>\n",
       "      <td>5.663859</td>\n",
       "      <td>-0.195100</td>\n",
       "      <td>0.399130</td>\n",
       "      <td>-0.242442</td>\n",
       "      <td>-0.226311</td>\n",
       "      <td>-0.105401</td>\n",
       "      <td>1.087833</td>\n",
       "      <td>-0.088406</td>\n",
       "      <td>0.005410</td>\n",
       "      <td>-0.141315</td>\n",
       "      <td>0.730497</td>\n",
       "      <td>0.297812</td>\n",
       "    </tr>\n",
       "    <tr>\n",
       "      <th>...</th>\n",
       "      <td>...</td>\n",
       "      <td>...</td>\n",
       "      <td>...</td>\n",
       "      <td>...</td>\n",
       "      <td>...</td>\n",
       "      <td>...</td>\n",
       "      <td>...</td>\n",
       "      <td>...</td>\n",
       "      <td>...</td>\n",
       "      <td>...</td>\n",
       "      <td>...</td>\n",
       "      <td>...</td>\n",
       "      <td>...</td>\n",
       "      <td>...</td>\n",
       "      <td>...</td>\n",
       "      <td>...</td>\n",
       "      <td>...</td>\n",
       "      <td>...</td>\n",
       "      <td>...</td>\n",
       "    </tr>\n",
       "    <tr>\n",
       "      <th>TTTCGAACTCTCAT-1</th>\n",
       "      <td>0.267775</td>\n",
       "      <td>-4.808762</td>\n",
       "      <td>10.059229</td>\n",
       "      <td>-2.683026</td>\n",
       "      <td>-1.406319</td>\n",
       "      <td>1.889484</td>\n",
       "      <td>-2.239332</td>\n",
       "      <td>1.447883</td>\n",
       "      <td>3.594074</td>\n",
       "      <td>0.129907</td>\n",
       "      <td>-1.271995</td>\n",
       "      <td>-0.216682</td>\n",
       "      <td>0.880483</td>\n",
       "      <td>-2.333885</td>\n",
       "      <td>0.940513</td>\n",
       "      <td>0.867038</td>\n",
       "      <td>-0.733483</td>\n",
       "      <td>-0.967269</td>\n",
       "      <td>-0.991798</td>\n",
       "    </tr>\n",
       "    <tr>\n",
       "      <th>TTTCTACTGAGGCA-1</th>\n",
       "      <td>-0.657981</td>\n",
       "      <td>1.183203</td>\n",
       "      <td>-3.023033</td>\n",
       "      <td>-1.448591</td>\n",
       "      <td>6.751172</td>\n",
       "      <td>-1.256827</td>\n",
       "      <td>-1.385403</td>\n",
       "      <td>-0.938995</td>\n",
       "      <td>-0.519361</td>\n",
       "      <td>-0.168586</td>\n",
       "      <td>-0.760116</td>\n",
       "      <td>4.818460</td>\n",
       "      <td>-0.301900</td>\n",
       "      <td>0.755246</td>\n",
       "      <td>0.274111</td>\n",
       "      <td>-0.205369</td>\n",
       "      <td>-0.327468</td>\n",
       "      <td>-0.039595</td>\n",
       "      <td>1.222869</td>\n",
       "    </tr>\n",
       "    <tr>\n",
       "      <th>TTTCTACTTCCTCG-1</th>\n",
       "      <td>-0.705997</td>\n",
       "      <td>1.705758</td>\n",
       "      <td>-3.204609</td>\n",
       "      <td>-2.278934</td>\n",
       "      <td>12.361921</td>\n",
       "      <td>-1.263154</td>\n",
       "      <td>-1.717041</td>\n",
       "      <td>-1.872091</td>\n",
       "      <td>-0.849086</td>\n",
       "      <td>-0.358258</td>\n",
       "      <td>-1.072594</td>\n",
       "      <td>0.409305</td>\n",
       "      <td>-0.221099</td>\n",
       "      <td>0.611751</td>\n",
       "      <td>-0.117688</td>\n",
       "      <td>-0.509048</td>\n",
       "      <td>-0.678666</td>\n",
       "      <td>-0.267697</td>\n",
       "      <td>-0.170317</td>\n",
       "    </tr>\n",
       "    <tr>\n",
       "      <th>TTTGCATGAGAGGC-1</th>\n",
       "      <td>-0.627192</td>\n",
       "      <td>0.345789</td>\n",
       "      <td>-2.462585</td>\n",
       "      <td>-1.872565</td>\n",
       "      <td>10.973145</td>\n",
       "      <td>-0.691493</td>\n",
       "      <td>-1.680086</td>\n",
       "      <td>-1.436423</td>\n",
       "      <td>-0.626005</td>\n",
       "      <td>0.076245</td>\n",
       "      <td>-1.093764</td>\n",
       "      <td>0.775826</td>\n",
       "      <td>-0.212772</td>\n",
       "      <td>1.197115</td>\n",
       "      <td>0.143104</td>\n",
       "      <td>-0.496551</td>\n",
       "      <td>-0.658349</td>\n",
       "      <td>-0.205316</td>\n",
       "      <td>0.111720</td>\n",
       "    </tr>\n",
       "    <tr>\n",
       "      <th>TTTGCATGCCTCAC-1</th>\n",
       "      <td>-0.609350</td>\n",
       "      <td>3.690296</td>\n",
       "      <td>-3.393365</td>\n",
       "      <td>-1.357709</td>\n",
       "      <td>-1.939299</td>\n",
       "      <td>-1.565070</td>\n",
       "      <td>1.712420</td>\n",
       "      <td>-1.878024</td>\n",
       "      <td>-0.796801</td>\n",
       "      <td>-0.638133</td>\n",
       "      <td>0.261586</td>\n",
       "      <td>-0.113168</td>\n",
       "      <td>-0.390675</td>\n",
       "      <td>0.653928</td>\n",
       "      <td>-0.330647</td>\n",
       "      <td>-0.263346</td>\n",
       "      <td>-0.264408</td>\n",
       "      <td>0.359202</td>\n",
       "      <td>1.422882</td>\n",
       "    </tr>\n",
       "  </tbody>\n",
       "</table>\n",
       "<p>2638 rows × 19 columns</p>\n",
       "</div>"
      ],
      "text/plain": [
       "                        1         2          3          4          5   \\\n",
       "AAACATACAACCAC-1 -0.727609  2.624979  -3.311350   0.805688  -2.160814   \n",
       "AAACATTGAGCTAC-1 -0.547002  2.090939  -3.155074  -2.245882   9.666570   \n",
       "AAACATTGATCAGC-1 -0.514758  0.248048  -3.028685  -0.077924  -1.931712   \n",
       "AAACCGTGCTTCCG-1 -0.203761 -5.861107   9.287175  -2.624157  -1.257042   \n",
       "AAACCGTGTATGCG-1 -0.451362 -6.649067  -0.330066  13.408894  -1.477985   \n",
       "...                    ...       ...        ...        ...        ...   \n",
       "TTTCGAACTCTCAT-1  0.267775 -4.808762  10.059229  -2.683026  -1.406319   \n",
       "TTTCTACTGAGGCA-1 -0.657981  1.183203  -3.023033  -1.448591   6.751172   \n",
       "TTTCTACTTCCTCG-1 -0.705997  1.705758  -3.204609  -2.278934  12.361921   \n",
       "TTTGCATGAGAGGC-1 -0.627192  0.345789  -2.462585  -1.872565  10.973145   \n",
       "TTTGCATGCCTCAC-1 -0.609350  3.690296  -3.393365  -1.357709  -1.939299   \n",
       "\n",
       "                        6         7         8         9         10        11  \\\n",
       "AAACATACAACCAC-1 -1.756093  1.608772 -1.186783 -0.802973 -0.644605  0.947214   \n",
       "AAACATTGAGCTAC-1 -1.402685 -2.015072 -1.462063 -0.869494 -0.351993 -1.189009   \n",
       "AAACATTGATCAGC-1 -1.580731  2.450792  0.100175 -0.419503 -0.633773  1.959789   \n",
       "AAACCGTGCTTCCG-1  4.710341 -2.124619  2.417568  1.330783  1.287826 -1.376093   \n",
       "AAACCGTGTATGCG-1  0.463921 -0.655916  5.663859 -0.195100  0.399130 -0.242442   \n",
       "...                    ...       ...       ...       ...       ...       ...   \n",
       "TTTCGAACTCTCAT-1  1.889484 -2.239332  1.447883  3.594074  0.129907 -1.271995   \n",
       "TTTCTACTGAGGCA-1 -1.256827 -1.385403 -0.938995 -0.519361 -0.168586 -0.760116   \n",
       "TTTCTACTTCCTCG-1 -1.263154 -1.717041 -1.872091 -0.849086 -0.358258 -1.072594   \n",
       "TTTGCATGAGAGGC-1 -0.691493 -1.680086 -1.436423 -0.626005  0.076245 -1.093764   \n",
       "TTTGCATGCCTCAC-1 -1.565070  1.712420 -1.878024 -0.796801 -0.638133  0.261586   \n",
       "\n",
       "                        12        13        14        15        16        17  \\\n",
       "AAACATACAACCAC-1 -0.284562 -0.420781  0.634126 -0.317481 -0.468689  1.477604   \n",
       "AAACATTGAGCTAC-1  3.222033 -0.508973  0.394285  0.417333 -0.521530 -0.729691   \n",
       "AAACATTGATCAGC-1 -0.297110 -0.173899  0.940622 -0.349555  0.091186  0.296206   \n",
       "AAACCGTGCTTCCG-1 -0.586650  0.730636 -2.414737  0.251063  0.029899 -0.814138   \n",
       "AAACCGTGTATGCG-1 -0.226311 -0.105401  1.087833 -0.088406  0.005410 -0.141315   \n",
       "...                    ...       ...       ...       ...       ...       ...   \n",
       "TTTCGAACTCTCAT-1 -0.216682  0.880483 -2.333885  0.940513  0.867038 -0.733483   \n",
       "TTTCTACTGAGGCA-1  4.818460 -0.301900  0.755246  0.274111 -0.205369 -0.327468   \n",
       "TTTCTACTTCCTCG-1  0.409305 -0.221099  0.611751 -0.117688 -0.509048 -0.678666   \n",
       "TTTGCATGAGAGGC-1  0.775826 -0.212772  1.197115  0.143104 -0.496551 -0.658349   \n",
       "TTTGCATGCCTCAC-1 -0.113168 -0.390675  0.653928 -0.330647 -0.263346 -0.264408   \n",
       "\n",
       "                        18        19  \n",
       "AAACATACAACCAC-1  0.194645  0.101362  \n",
       "AAACATTGAGCTAC-1 -0.202885  0.054668  \n",
       "AAACATTGATCAGC-1  0.647022  2.308476  \n",
       "AAACCGTGCTTCCG-1 -1.026194 -0.827805  \n",
       "AAACCGTGTATGCG-1  0.730497  0.297812  \n",
       "...                    ...       ...  \n",
       "TTTCGAACTCTCAT-1 -0.967269 -0.991798  \n",
       "TTTCTACTGAGGCA-1 -0.039595  1.222869  \n",
       "TTTCTACTTCCTCG-1 -0.267697 -0.170317  \n",
       "TTTGCATGAGAGGC-1 -0.205316  0.111720  \n",
       "TTTGCATGCCTCAC-1  0.359202  1.422882  \n",
       "\n",
       "[2638 rows x 19 columns]"
      ]
     },
     "execution_count": 13,
     "metadata": {},
     "output_type": "execute_result"
    }
   ],
   "source": [
    "hs.module_scores"
   ]
  }
 ],
 "metadata": {
  "kernelspec": {
   "display_name": "Python [conda env:bioinformatics]",
   "language": "python",
   "name": "conda-env-bioinformatics-py"
  },
  "language_info": {
   "codemirror_mode": {
    "name": "ipython",
    "version": 3
   },
   "file_extension": ".py",
   "mimetype": "text/x-python",
   "name": "python",
   "nbconvert_exporter": "python",
   "pygments_lexer": "ipython3",
   "version": "3.9.16"
  },
  "vscode": {
   "interpreter": {
    "hash": "4e859d4972efc12df6efe7b8555e3827368d516b87dd21f93a9968b10cd49560"
   }
  }
 },
 "nbformat": 4,
 "nbformat_minor": 4
}

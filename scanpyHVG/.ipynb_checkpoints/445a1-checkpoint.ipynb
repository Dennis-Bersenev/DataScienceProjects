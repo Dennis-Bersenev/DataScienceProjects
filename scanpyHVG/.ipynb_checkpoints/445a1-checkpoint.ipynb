{
 "cells": [
  {
   "cell_type": "code",
   "execution_count": 1,
   "metadata": {},
   "outputs": [
    {
     "name": "stdout",
     "output_type": "stream",
     "text": [
      "scanpy==1.9.1 anndata==0.8.0 umap==0.5.3 numpy==1.23.5 scipy==1.10.0 pandas==1.5.3 scikit-learn==1.2.1 statsmodels==0.13.5 python-igraph==0.10.4 pynndescent==0.5.8\n",
      "... reading from cache file cache\\data-filtered_gene_bc_matrices-hg19-matrix.h5ad\n"
     ]
    },
    {
     "name": "stderr",
     "output_type": "stream",
     "text": [
      "C:\\Users\\denni\\anaconda3\\envs\\bioinformatics\\lib\\site-packages\\tqdm\\auto.py:22: TqdmWarning: IProgress not found. Please update jupyter and ipywidgets. See https://ipywidgets.readthedocs.io/en/stable/user_install.html\n",
      "  from .autonotebook import tqdm as notebook_tqdm\n"
     ]
    },
    {
     "data": {
      "text/plain": [
       "AnnData object with n_obs × n_vars = 2700 × 32738\n",
       "    var: 'gene_ids'"
      ]
     },
     "execution_count": 1,
     "metadata": {},
     "output_type": "execute_result"
    }
   ],
   "source": [
    "import numpy as np\n",
    "import pandas as pd\n",
    "import scanpy as sc\n",
    "import hotspot\n",
    "\n",
    "sc.settings.verbosity = 3             # verbosity: errors (0), warnings (1), info (2), hints (3)\n",
    "sc.logging.print_header()\n",
    "sc.settings.set_figure_params(dpi=80, facecolor='white')\n",
    "\n",
    "adata = sc.read_10x_mtx(\n",
    "    'data/filtered_gene_bc_matrices/hg19/',  # the directory with the `.mtx` file\n",
    "    var_names='gene_symbols',                # use gene symbols for the variable names (variables-axis index)\n",
    "    cache=True)                              # write a cache file for faster subsequent reading\n",
    "\n",
    "adata.var_names_make_unique()\n",
    "adata"
   ]
  },
  {
   "cell_type": "code",
   "execution_count": 2,
   "metadata": {},
   "outputs": [],
   "source": [
    "adata.layers[\"counts\"] = adata.X.copy()"
   ]
  },
  {
   "cell_type": "code",
   "execution_count": 4,
   "metadata": {},
   "outputs": [],
   "source": [
    "adata.var['mt'] = adata.var_names.str.startswith('MT-')  # annotate the group of mitochondrial genes as 'mt'\n",
    "sc.pp.calculate_qc_metrics(adata, qc_vars=['mt'], percent_top=None, log1p=False, inplace=True)"
   ]
  },
  {
   "cell_type": "code",
   "execution_count": 5,
   "metadata": {},
   "outputs": [],
   "source": [
    "adata = adata[adata.obs.n_genes_by_counts > 200, :]\n",
    "adata = adata[adata.obs.n_genes_by_counts < 2500, :]\n",
    "adata = adata[adata.obs.pct_counts_mt < 5, :]"
   ]
  },
  {
   "cell_type": "code",
   "execution_count": 6,
   "metadata": {},
   "outputs": [
    {
     "name": "stdout",
     "output_type": "stream",
     "text": [
      "normalizing counts per cell\n",
      "    finished (0:00:00)\n"
     ]
    },
    {
     "name": "stderr",
     "output_type": "stream",
     "text": [
      "C:\\Users\\denni\\anaconda3\\envs\\bioinformatics\\lib\\site-packages\\scanpy\\preprocessing\\_normalization.py:170: UserWarning: Received a view of an AnnData. Making a copy.\n",
      "  view_to_actual(adata)\n"
     ]
    }
   ],
   "source": [
    "sc.pp.normalize_total(adata, target_sum=1e4)"
   ]
  },
  {
   "cell_type": "code",
   "execution_count": 7,
   "metadata": {},
   "outputs": [],
   "source": [
    "sc.pp.log1p(adata)"
   ]
  },
  {
   "cell_type": "code",
   "execution_count": 9,
   "metadata": {},
   "outputs": [
    {
     "data": {
      "text/plain": [
       "AnnData object with n_obs × n_vars = 2638 × 32738\n",
       "    obs: 'n_genes_by_counts', 'total_counts', 'total_counts_mt', 'pct_counts_mt'\n",
       "    var: 'gene_ids', 'mt', 'n_cells_by_counts', 'mean_counts', 'pct_dropout_by_counts', 'total_counts'\n",
       "    uns: 'log1p'\n",
       "    layers: 'counts'"
      ]
     },
     "execution_count": 9,
     "metadata": {},
     "output_type": "execute_result"
    }
   ],
   "source": [
    "adata.raw = adata\n",
    "adata"
   ]
  },
  {
   "cell_type": "code",
   "execution_count": 10,
   "metadata": {},
   "outputs": [
    {
     "ename": "SyntaxError",
     "evalue": "invalid syntax (1862402231.py, line 2)",
     "output_type": "error",
     "traceback": [
      "\u001b[1;36m  Cell \u001b[1;32mIn[10], line 2\u001b[1;36m\u001b[0m\n\u001b[1;33m    sc.pp.highly_variable_genes(adata, n_top_genes=2000 flavor='seurat_v3')\u001b[0m\n\u001b[1;37m                                                        ^\u001b[0m\n\u001b[1;31mSyntaxError\u001b[0m\u001b[1;31m:\u001b[0m invalid syntax\n"
     ]
    }
   ],
   "source": [
    "# sc.pp.highly_variable_genes(adata, min_mean=0.0005, max_mean=100, min_disp=0.001) \n",
    "sc.pp.highly_variable_genes(adata, n_top_genes=2000, flavor='seurat_v3') \n",
    "adata = adata[:, adata.var.highly_variable]"
   ]
  },
  {
   "cell_type": "code",
   "execution_count": 11,
   "metadata": {},
   "outputs": [
    {
     "name": "stdout",
     "output_type": "stream",
     "text": [
      "regressing out ['total_counts', 'pct_counts_mt']\n",
      "    sparse input is densified and may lead to high memory use\n",
      "    finished (0:00:10)\n"
     ]
    }
   ],
   "source": [
    "sc.pp.regress_out(adata, ['total_counts', 'pct_counts_mt'])"
   ]
  },
  {
   "cell_type": "code",
   "execution_count": 12,
   "metadata": {},
   "outputs": [],
   "source": [
    "sc.pp.scale(adata, max_value=10)"
   ]
  },
  {
   "cell_type": "code",
   "execution_count": 13,
   "metadata": {},
   "outputs": [
    {
     "name": "stdout",
     "output_type": "stream",
     "text": [
      "computing PCA\n",
      "    on highly variable genes\n",
      "    with n_comps=50\n",
      "    finished (0:00:01)\n"
     ]
    }
   ],
   "source": [
    "#PCA \n",
    "sc.tl.pca(adata, svd_solver='arpack')"
   ]
  },
  {
   "cell_type": "code",
   "execution_count": 14,
   "metadata": {},
   "outputs": [
    {
     "name": "stdout",
     "output_type": "stream",
     "text": [
      "computing neighbors\n",
      "    using 'X_pca' with n_pcs = 40\n",
      "    finished: added to `.uns['neighbors']`\n",
      "    `.obsp['distances']`, distances for each pair of neighbors\n",
      "    `.obsp['connectivities']`, weighted adjacency matrix (0:00:02)\n"
     ]
    }
   ],
   "source": [
    "#Clustering\n",
    "sc.pp.neighbors(adata, n_neighbors=10, n_pcs=40)"
   ]
  },
  {
   "cell_type": "code",
   "execution_count": 15,
   "metadata": {},
   "outputs": [
    {
     "name": "stdout",
     "output_type": "stream",
     "text": [
      "computing UMAP\n",
      "    finished: added\n",
      "    'X_umap', UMAP coordinates (adata.obsm) (0:00:03)\n"
     ]
    }
   ],
   "source": [
    "sc.tl.umap(adata)"
   ]
  },
  {
   "cell_type": "code",
   "execution_count": 16,
   "metadata": {},
   "outputs": [
    {
     "name": "stdout",
     "output_type": "stream",
     "text": [
      "running Leiden clustering\n",
      "    finished: found 9 clusters and added\n",
      "    'leiden_2', the cluster labels (adata.obs, categorical) (0:00:00)\n"
     ]
    }
   ],
   "source": [
    "sc.tl.leiden(adata, resolution=0.75, key_added=\"leiden_2\")"
   ]
  },
  {
   "cell_type": "code",
   "execution_count": 17,
   "metadata": {},
   "outputs": [
    {
     "name": "stdout",
     "output_type": "stream",
     "text": [
      "ranking genes\n",
      "    finished: added to `.uns['rank_genes_groups']`\n",
      "    'names', sorted np.recarray to be indexed by group ids\n",
      "    'scores', sorted np.recarray to be indexed by group ids\n",
      " (0:00:05)\n"
     ]
    },
    {
     "name": "stderr",
     "output_type": "stream",
     "text": [
      "C:\\Users\\denni\\anaconda3\\envs\\bioinformatics\\lib\\site-packages\\sklearn\\linear_model\\_logistic.py:458: ConvergenceWarning: lbfgs failed to converge (status=1):\n",
      "STOP: TOTAL NO. of ITERATIONS REACHED LIMIT.\n",
      "\n",
      "Increase the number of iterations (max_iter) or scale the data as shown in:\n",
      "    https://scikit-learn.org/stable/modules/preprocessing.html\n",
      "Please also refer to the documentation for alternative solver options:\n",
      "    https://scikit-learn.org/stable/modules/linear_model.html#logistic-regression\n",
      "  n_iter_i = _check_optimize_result(\n"
     ]
    }
   ],
   "source": [
    "sc.tl.rank_genes_groups(adata, 'leiden_2', method='logreg')"
   ]
  },
  {
   "cell_type": "markdown",
   "metadata": {},
   "source": [
    "|Cluster ID\t|Markers         |Cell Type       |\n",
    "|-----------|----------------|----------------|\n",
    "|0\t        |IL7R,S100A4     |Memory CD4+     |\n",
    "|1\t        |CD14,LYZ\t     |CD14+ Mono      |\n",
    "|2\t        |IL7R,CCR7\t     |Naive CD4+ T    |\n",
    "|3\t        |MS4A1\t         |B               |\n",
    "|4\t        |CD8A\t         |CD8+ T          |\n",
    "|5\t        |FCGR3A,MS4A7\t |FCGR3A+         |\n",
    "|6\t        |GNLY,NKG7\t     |NK              |\n",
    "|7\t        |FCER1A,CST3     |Dendritic C     |\n",
    "|8\t        |PPBP\t         |Megakaryocytes  |\n",
    "\n",
    "(cluster ID column is from Seurat, so in your case, match Markers with cell types, by getting the markers for each cluster!\n",
    " The point of doing this is as a clustering sanity check)"
   ]
  },
  {
   "cell_type": "code",
   "execution_count": 18,
   "metadata": {},
   "outputs": [
    {
     "name": "stderr",
     "output_type": "stream",
     "text": [
      "C:\\Users\\denni\\anaconda3\\envs\\bioinformatics\\lib\\site-packages\\anndata\\_core\\anndata.py:1160: FutureWarning: The `inplace` parameter in pandas.Categorical.rename_categories is deprecated and will be removed in a future version. Removing unused categories will always return a new Categorical object.\n",
      "  self.obs[key].cat.rename_categories(categories, inplace=True)\n"
     ]
    }
   ],
   "source": [
    "new_cluster_names = [\n",
    "    'Memory CD4+', 'CD4 T', 'CD14 Monocytes',\n",
    "    'B', 'CD8 T',\n",
    "    'FCGR3A Monocytes', 'NK',\n",
    "    'Dendritic', 'Megakaryocytes']\n",
    "adata.rename_categories('leiden_2', new_cluster_names)"
   ]
  },
  {
   "cell_type": "code",
   "execution_count": 19,
   "metadata": {},
   "outputs": [
    {
     "data": {
      "text/html": [
       "<div>\n",
       "<style scoped>\n",
       "    .dataframe tbody tr th:only-of-type {\n",
       "        vertical-align: middle;\n",
       "    }\n",
       "\n",
       "    .dataframe tbody tr th {\n",
       "        vertical-align: top;\n",
       "    }\n",
       "\n",
       "    .dataframe thead th {\n",
       "        text-align: right;\n",
       "    }\n",
       "</style>\n",
       "<table border=\"1\" class=\"dataframe\">\n",
       "  <thead>\n",
       "    <tr style=\"text-align: right;\">\n",
       "      <th></th>\n",
       "      <th>Memory CD4+</th>\n",
       "      <th>CD4 T</th>\n",
       "      <th>CD14 Monocytes</th>\n",
       "      <th>B</th>\n",
       "      <th>CD8 T</th>\n",
       "      <th>FCGR3A Monocytes</th>\n",
       "      <th>NK</th>\n",
       "      <th>Dendritic</th>\n",
       "      <th>Megakaryocytes</th>\n",
       "    </tr>\n",
       "  </thead>\n",
       "  <tbody>\n",
       "    <tr>\n",
       "      <th>0</th>\n",
       "      <td>CD8B</td>\n",
       "      <td>IL32</td>\n",
       "      <td>S100A8</td>\n",
       "      <td>HLA-DRA</td>\n",
       "      <td>CCL5</td>\n",
       "      <td>FCGR3A</td>\n",
       "      <td>GNLY</td>\n",
       "      <td>FCER1A</td>\n",
       "      <td>PPBP</td>\n",
       "    </tr>\n",
       "    <tr>\n",
       "      <th>1</th>\n",
       "      <td>AIF1</td>\n",
       "      <td>S100A4</td>\n",
       "      <td>S100A9</td>\n",
       "      <td>CD79A</td>\n",
       "      <td>NKG7</td>\n",
       "      <td>LST1</td>\n",
       "      <td>GZMB</td>\n",
       "      <td>HLA-DQA1</td>\n",
       "      <td>PF4</td>\n",
       "    </tr>\n",
       "    <tr>\n",
       "      <th>2</th>\n",
       "      <td>NPM1</td>\n",
       "      <td>CD2</td>\n",
       "      <td>LGALS2</td>\n",
       "      <td>CD74</td>\n",
       "      <td>GZMK</td>\n",
       "      <td>IFITM2</td>\n",
       "      <td>TYROBP</td>\n",
       "      <td>HLA-DQB1</td>\n",
       "      <td>GNG11</td>\n",
       "    </tr>\n",
       "    <tr>\n",
       "      <th>3</th>\n",
       "      <td>RPS5</td>\n",
       "      <td>LTB</td>\n",
       "      <td>LYZ</td>\n",
       "      <td>MS4A1</td>\n",
       "      <td>CST7</td>\n",
       "      <td>MS4A7</td>\n",
       "      <td>NKG7</td>\n",
       "      <td>CLEC10A</td>\n",
       "      <td>SDPR</td>\n",
       "    </tr>\n",
       "    <tr>\n",
       "      <th>4</th>\n",
       "      <td>FUS</td>\n",
       "      <td>ANXA1</td>\n",
       "      <td>FCN1</td>\n",
       "      <td>HLA-DPB1</td>\n",
       "      <td>GZMA</td>\n",
       "      <td>HES4</td>\n",
       "      <td>FCER1G</td>\n",
       "      <td>CST3</td>\n",
       "      <td>HIST1H2AC</td>\n",
       "    </tr>\n",
       "  </tbody>\n",
       "</table>\n",
       "</div>"
      ],
      "text/plain": [
       "  Memory CD4+   CD4 T CD14 Monocytes         B CD8 T FCGR3A Monocytes      NK  \\\n",
       "0        CD8B    IL32         S100A8   HLA-DRA  CCL5           FCGR3A    GNLY   \n",
       "1        AIF1  S100A4         S100A9     CD79A  NKG7             LST1    GZMB   \n",
       "2        NPM1     CD2         LGALS2      CD74  GZMK           IFITM2  TYROBP   \n",
       "3        RPS5     LTB            LYZ     MS4A1  CST7            MS4A7    NKG7   \n",
       "4         FUS   ANXA1           FCN1  HLA-DPB1  GZMA             HES4  FCER1G   \n",
       "\n",
       "  Dendritic Megakaryocytes  \n",
       "0    FCER1A           PPBP  \n",
       "1  HLA-DQA1            PF4  \n",
       "2  HLA-DQB1          GNG11  \n",
       "3   CLEC10A           SDPR  \n",
       "4      CST3      HIST1H2AC  "
      ]
     },
     "execution_count": 19,
     "metadata": {},
     "output_type": "execute_result"
    }
   ],
   "source": [
    "pd.DataFrame(adata.uns['rank_genes_groups']['names']).head(5)"
   ]
  },
  {
   "cell_type": "code",
   "execution_count": 20,
   "metadata": {},
   "outputs": [
    {
     "name": "stdout",
     "output_type": "stream",
     "text": [
      "WARNING: saving figure to file figures\\umap.pdf\n"
     ]
    },
    {
     "name": "stderr",
     "output_type": "stream",
     "text": [
      "C:\\Users\\denni\\anaconda3\\envs\\bioinformatics\\lib\\site-packages\\scanpy\\plotting\\_tools\\scatterplots.py:392: UserWarning: No data for colormapping provided via 'c'. Parameters 'cmap' will be ignored\n",
      "  cax = scatter(\n"
     ]
    },
    {
     "data": {
      "image/png": "[encoded data removed]",
      "text/plain": [
       "<Figure size 320x320 with 1 Axes>"
      ]
     },
     "metadata": {
      "image/png": {
       "height": 259,
       "width": 337
      }
     },
     "output_type": "display_data"
    }
   ],
   "source": [
    "sc.pl.umap(adata, color='leiden_2', legend_loc='on data', title='', frameon=False, save='.pdf')"
   ]
  },
  {
   "cell_type": "code",
   "execution_count": 21,
   "metadata": {},
   "outputs": [],
   "source": [
    "def get_column(adata_instance, X, goi):\n",
    "    goi_id = adata_instance.var.gene_ids[goi]\n",
    "    goi_index = (adata_instance.var.gene_ids==goi_id).argmax()\n",
    "    return X[:, goi_index] \n",
    "\n",
    "def highly_coexpressed(goi, cell_type=None):\n",
    "    if cell_type == None:\n",
    "        X = adata.X\n",
    "    else:\n",
    "        #run on subset\n",
    "        X = adata.X[adata.obs.leiden_2 == cell_type]\n",
    "\n",
    "    corr_X = np.corrcoef(np.transpose(X)) \n",
    "    goi_corr_col = get_column(adata, corr_X, goi)\n",
    "    indices = np.argsort(goi_corr_col)\n",
    "    n = indices.shape[0]\n",
    "    indices_top_20 = np.flip(indices[n-21: n]) \n",
    "    temp = adata.var.gene_ids[indices_top_20].keys()\n",
    "    d = {'Genes': adata.var.gene_ids[indices_top_20].keys(), 'Pearson Coefficients': goi_corr_col[indices_top_20]}\n",
    "    df =  pd.DataFrame(data=d)\n",
    "    return df\n",
    "\n",
    "def pairwise_expression(goi_1, goi_2, cell_type=None):\n",
    "    if cell_type == None:\n",
    "        X = adata.X\n",
    "    else:\n",
    "        #run on subset\n",
    "        X = adata.X[adata.obs.leiden_2 == cell_type]\n",
    "    \n",
    "    goi_1_col = get_column(adata, X, goi_1)\n",
    "    goi_2_col = get_column(adata, X, goi_2)\n",
    "    \n",
    "    pw_corr = np.corrcoef(goi_1_col, goi_2_col)\n",
    "    return pw_corr"
   ]
  },
  {
   "cell_type": "code",
   "execution_count": 22,
   "metadata": {},
   "outputs": [
    {
     "data": {
      "text/html": [
       "<div>\n",
       "<style scoped>\n",
       "    .dataframe tbody tr th:only-of-type {\n",
       "        vertical-align: middle;\n",
       "    }\n",
       "\n",
       "    .dataframe tbody tr th {\n",
       "        vertical-align: top;\n",
       "    }\n",
       "\n",
       "    .dataframe thead th {\n",
       "        text-align: right;\n",
       "    }\n",
       "</style>\n",
       "<table border=\"1\" class=\"dataframe\">\n",
       "  <thead>\n",
       "    <tr style=\"text-align: right;\">\n",
       "      <th></th>\n",
       "      <th>Genes</th>\n",
       "      <th>Pearson Coefficients</th>\n",
       "    </tr>\n",
       "  </thead>\n",
       "  <tbody>\n",
       "    <tr>\n",
       "      <th>0</th>\n",
       "      <td>LYZ</td>\n",
       "      <td>1.000000</td>\n",
       "    </tr>\n",
       "    <tr>\n",
       "      <th>1</th>\n",
       "      <td>S100A9</td>\n",
       "      <td>0.799024</td>\n",
       "    </tr>\n",
       "    <tr>\n",
       "      <th>2</th>\n",
       "      <td>S100A8</td>\n",
       "      <td>0.779052</td>\n",
       "    </tr>\n",
       "    <tr>\n",
       "      <th>3</th>\n",
       "      <td>CST3</td>\n",
       "      <td>0.770817</td>\n",
       "    </tr>\n",
       "    <tr>\n",
       "      <th>4</th>\n",
       "      <td>FCN1</td>\n",
       "      <td>0.744636</td>\n",
       "    </tr>\n",
       "    <tr>\n",
       "      <th>5</th>\n",
       "      <td>LGALS2</td>\n",
       "      <td>0.742420</td>\n",
       "    </tr>\n",
       "    <tr>\n",
       "      <th>6</th>\n",
       "      <td>TYROBP</td>\n",
       "      <td>0.722963</td>\n",
       "    </tr>\n",
       "    <tr>\n",
       "      <th>7</th>\n",
       "      <td>FTL</td>\n",
       "      <td>0.691273</td>\n",
       "    </tr>\n",
       "    <tr>\n",
       "      <th>8</th>\n",
       "      <td>AIF1</td>\n",
       "      <td>0.678401</td>\n",
       "    </tr>\n",
       "    <tr>\n",
       "      <th>9</th>\n",
       "      <td>LST1</td>\n",
       "      <td>0.674861</td>\n",
       "    </tr>\n",
       "    <tr>\n",
       "      <th>10</th>\n",
       "      <td>FTH1</td>\n",
       "      <td>0.660461</td>\n",
       "    </tr>\n",
       "    <tr>\n",
       "      <th>11</th>\n",
       "      <td>TYMP</td>\n",
       "      <td>0.659370</td>\n",
       "    </tr>\n",
       "    <tr>\n",
       "      <th>12</th>\n",
       "      <td>LGALS1</td>\n",
       "      <td>0.639184</td>\n",
       "    </tr>\n",
       "    <tr>\n",
       "      <th>13</th>\n",
       "      <td>CFD</td>\n",
       "      <td>0.636246</td>\n",
       "    </tr>\n",
       "    <tr>\n",
       "      <th>14</th>\n",
       "      <td>CD14</td>\n",
       "      <td>0.621097</td>\n",
       "    </tr>\n",
       "    <tr>\n",
       "      <th>15</th>\n",
       "      <td>MS4A6A</td>\n",
       "      <td>0.613306</td>\n",
       "    </tr>\n",
       "    <tr>\n",
       "      <th>16</th>\n",
       "      <td>FCER1G</td>\n",
       "      <td>0.611933</td>\n",
       "    </tr>\n",
       "    <tr>\n",
       "      <th>17</th>\n",
       "      <td>GRN</td>\n",
       "      <td>0.597385</td>\n",
       "    </tr>\n",
       "    <tr>\n",
       "      <th>18</th>\n",
       "      <td>CTSS</td>\n",
       "      <td>0.585319</td>\n",
       "    </tr>\n",
       "    <tr>\n",
       "      <th>19</th>\n",
       "      <td>GPX1</td>\n",
       "      <td>0.579901</td>\n",
       "    </tr>\n",
       "    <tr>\n",
       "      <th>20</th>\n",
       "      <td>GSTP1</td>\n",
       "      <td>0.579393</td>\n",
       "    </tr>\n",
       "  </tbody>\n",
       "</table>\n",
       "</div>"
      ],
      "text/plain": [
       "     Genes  Pearson Coefficients\n",
       "0      LYZ              1.000000\n",
       "1   S100A9              0.799024\n",
       "2   S100A8              0.779052\n",
       "3     CST3              0.770817\n",
       "4     FCN1              0.744636\n",
       "5   LGALS2              0.742420\n",
       "6   TYROBP              0.722963\n",
       "7      FTL              0.691273\n",
       "8     AIF1              0.678401\n",
       "9     LST1              0.674861\n",
       "10    FTH1              0.660461\n",
       "11    TYMP              0.659370\n",
       "12  LGALS1              0.639184\n",
       "13     CFD              0.636246\n",
       "14    CD14              0.621097\n",
       "15  MS4A6A              0.613306\n",
       "16  FCER1G              0.611933\n",
       "17     GRN              0.597385\n",
       "18    CTSS              0.585319\n",
       "19    GPX1              0.579901\n",
       "20   GSTP1              0.579393"
      ]
     },
     "execution_count": 22,
     "metadata": {},
     "output_type": "execute_result"
    }
   ],
   "source": [
    "res = highly_coexpressed('LYZ')\n",
    "res"
   ]
  },
  {
   "cell_type": "code",
   "execution_count": 23,
   "metadata": {},
   "outputs": [
    {
     "data": {
      "text/html": [
       "<div>\n",
       "<style scoped>\n",
       "    .dataframe tbody tr th:only-of-type {\n",
       "        vertical-align: middle;\n",
       "    }\n",
       "\n",
       "    .dataframe tbody tr th {\n",
       "        vertical-align: top;\n",
       "    }\n",
       "\n",
       "    .dataframe thead th {\n",
       "        text-align: right;\n",
       "    }\n",
       "</style>\n",
       "<table border=\"1\" class=\"dataframe\">\n",
       "  <thead>\n",
       "    <tr style=\"text-align: right;\">\n",
       "      <th></th>\n",
       "      <th>Genes</th>\n",
       "      <th>Pearson Coefficients</th>\n",
       "    </tr>\n",
       "  </thead>\n",
       "  <tbody>\n",
       "    <tr>\n",
       "      <th>0</th>\n",
       "      <td>LYZ</td>\n",
       "      <td>1.000000</td>\n",
       "    </tr>\n",
       "    <tr>\n",
       "      <th>1</th>\n",
       "      <td>S100A9</td>\n",
       "      <td>0.602331</td>\n",
       "    </tr>\n",
       "    <tr>\n",
       "      <th>2</th>\n",
       "      <td>ZRANB3</td>\n",
       "      <td>0.579307</td>\n",
       "    </tr>\n",
       "    <tr>\n",
       "      <th>3</th>\n",
       "      <td>LINC01119</td>\n",
       "      <td>0.578593</td>\n",
       "    </tr>\n",
       "    <tr>\n",
       "      <th>4</th>\n",
       "      <td>VIL1</td>\n",
       "      <td>0.575433</td>\n",
       "    </tr>\n",
       "    <tr>\n",
       "      <th>5</th>\n",
       "      <td>RP11-247A12.2</td>\n",
       "      <td>0.571563</td>\n",
       "    </tr>\n",
       "    <tr>\n",
       "      <th>6</th>\n",
       "      <td>RP4-773N10.4</td>\n",
       "      <td>0.569269</td>\n",
       "    </tr>\n",
       "    <tr>\n",
       "      <th>7</th>\n",
       "      <td>TRIP13</td>\n",
       "      <td>0.569093</td>\n",
       "    </tr>\n",
       "    <tr>\n",
       "      <th>8</th>\n",
       "      <td>RP11-413H22.2</td>\n",
       "      <td>0.562762</td>\n",
       "    </tr>\n",
       "    <tr>\n",
       "      <th>9</th>\n",
       "      <td>SEC61A2</td>\n",
       "      <td>0.562624</td>\n",
       "    </tr>\n",
       "    <tr>\n",
       "      <th>10</th>\n",
       "      <td>C1orf112</td>\n",
       "      <td>0.560802</td>\n",
       "    </tr>\n",
       "    <tr>\n",
       "      <th>11</th>\n",
       "      <td>S100A8</td>\n",
       "      <td>0.559243</td>\n",
       "    </tr>\n",
       "    <tr>\n",
       "      <th>12</th>\n",
       "      <td>HRASLS2</td>\n",
       "      <td>0.555214</td>\n",
       "    </tr>\n",
       "    <tr>\n",
       "      <th>13</th>\n",
       "      <td>RLN2</td>\n",
       "      <td>0.554937</td>\n",
       "    </tr>\n",
       "    <tr>\n",
       "      <th>14</th>\n",
       "      <td>GSTA4</td>\n",
       "      <td>0.553289</td>\n",
       "    </tr>\n",
       "    <tr>\n",
       "      <th>15</th>\n",
       "      <td>RP11-545I5.3</td>\n",
       "      <td>0.553151</td>\n",
       "    </tr>\n",
       "    <tr>\n",
       "      <th>16</th>\n",
       "      <td>CTA-445C9.14</td>\n",
       "      <td>0.550821</td>\n",
       "    </tr>\n",
       "    <tr>\n",
       "      <th>17</th>\n",
       "      <td>TJP2</td>\n",
       "      <td>0.545793</td>\n",
       "    </tr>\n",
       "    <tr>\n",
       "      <th>18</th>\n",
       "      <td>PPAPDC2</td>\n",
       "      <td>0.542602</td>\n",
       "    </tr>\n",
       "    <tr>\n",
       "      <th>19</th>\n",
       "      <td>AC073072.5</td>\n",
       "      <td>0.540399</td>\n",
       "    </tr>\n",
       "    <tr>\n",
       "      <th>20</th>\n",
       "      <td>TREML2</td>\n",
       "      <td>0.537644</td>\n",
       "    </tr>\n",
       "  </tbody>\n",
       "</table>\n",
       "</div>"
      ],
      "text/plain": [
       "            Genes  Pearson Coefficients\n",
       "0             LYZ              1.000000\n",
       "1          S100A9              0.602331\n",
       "2          ZRANB3              0.579307\n",
       "3       LINC01119              0.578593\n",
       "4            VIL1              0.575433\n",
       "5   RP11-247A12.2              0.571563\n",
       "6    RP4-773N10.4              0.569269\n",
       "7          TRIP13              0.569093\n",
       "8   RP11-413H22.2              0.562762\n",
       "9         SEC61A2              0.562624\n",
       "10       C1orf112              0.560802\n",
       "11         S100A8              0.559243\n",
       "12        HRASLS2              0.555214\n",
       "13           RLN2              0.554937\n",
       "14          GSTA4              0.553289\n",
       "15   RP11-545I5.3              0.553151\n",
       "16   CTA-445C9.14              0.550821\n",
       "17           TJP2              0.545793\n",
       "18        PPAPDC2              0.542602\n",
       "19     AC073072.5              0.540399\n",
       "20         TREML2              0.537644"
      ]
     },
     "execution_count": 23,
     "metadata": {},
     "output_type": "execute_result"
    }
   ],
   "source": [
    "res2 = highly_coexpressed('LYZ', 'CD14 Monocytes')\n",
    "res2"
   ]
  },
  {
   "cell_type": "code",
   "execution_count": 24,
   "metadata": {},
   "outputs": [
    {
     "data": {
      "text/plain": [
       "array([[1.        , 0.69127323],\n",
       "       [0.69127323, 1.        ]])"
      ]
     },
     "execution_count": 24,
     "metadata": {},
     "output_type": "execute_result"
    }
   ],
   "source": [
    "pairwise_expression('LYZ', 'FTL') #It makes sense, it is the correlation between two vectors, outta be a number"
   ]
  },
  {
   "cell_type": "code",
   "execution_count": 25,
   "metadata": {},
   "outputs": [
    {
     "data": {
      "text/plain": [
       "array([[1.        , 0.33600103],\n",
       "       [0.33600103, 1.        ]])"
      ]
     },
     "execution_count": 25,
     "metadata": {},
     "output_type": "execute_result"
    }
   ],
   "source": [
    "#Change adata to only include the monocyte rows!\n",
    "pairwise_expression('LYZ', 'FTL', 'CD14 Monocytes')"
   ]
  },
  {
   "cell_type": "code",
   "execution_count": 26,
   "metadata": {},
   "outputs": [],
   "source": [
    "# adata.X = adata.layers[\"counts\"].copy()\n",
    "# sc.pl.scatter(adata, x='LYZ', y='FTL', use_raw=True) #Should recover OG plot, if using raw will plot log normalised values (which is what should be submitted!)"
   ]
  },
  {
   "cell_type": "code",
   "execution_count": 28,
   "metadata": {},
   "outputs": [],
   "source": [
    "# bdata = adata[adata.obs.leiden_2 == \"CD14 Monocytes\"] #Would be helpful to rename leiden_2 col to cell_type!\n",
    "# sc.pl.scatter(bdata, x='LYZ', y='FTL', use_raw=True)"
   ]
  },
  {
   "cell_type": "code",
   "execution_count": null,
   "metadata": {},
   "outputs": [],
   "source": []
  }
 ],
 "metadata": {
  "kernelspec": {
   "display_name": "Python [conda env:bioinformatics]",
   "language": "python",
   "name": "conda-env-bioinformatics-py"
  },
  "language_info": {
   "codemirror_mode": {
    "name": "ipython",
    "version": 3
   },
   "file_extension": ".py",
   "mimetype": "text/x-python",
   "name": "python",
   "nbconvert_exporter": "python",
   "pygments_lexer": "ipython3",
   "version": "3.9.16"
  }
 },
 "nbformat": 4,
 "nbformat_minor": 4
}
